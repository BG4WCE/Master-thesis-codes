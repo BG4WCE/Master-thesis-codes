{
 "cells": [
  {
   "cell_type": "code",
   "execution_count": 1,
   "metadata": {},
   "outputs": [],
   "source": [
    "from sklearn.cluster import KMeans\n",
    "import metrics\n",
    "import pandas as pd\n",
    "import numpy as np\n",
    "from sklearn.cluster import KMeans\n",
    "from sklearn.preprocessing import LabelEncoder\n",
    "from sklearn.preprocessing import MinMaxScaler\n",
    "import seaborn as sns\n",
    "import matplotlib.pyplot as plt\n",
    "%matplotlib inline\n"
   ]
  },
  {
   "cell_type": "code",
   "execution_count": 2,
   "metadata": {},
   "outputs": [
    {
     "name": "stderr",
     "output_type": "stream",
     "text": [
      "Using TensorFlow backend.\n",
      "C:\\Users\\YALAVI\\Anaconda3\\lib\\site-packages\\tensorboard\\compat\\tensorflow_stub\\dtypes.py:541: FutureWarning: Passing (type, 1) or '1type' as a synonym of type is deprecated; in a future version of numpy, it will be understood as (type, (1,)) / '(1,)type'.\n",
      "  _np_qint8 = np.dtype([(\"qint8\", np.int8, 1)])\n",
      "C:\\Users\\YALAVI\\Anaconda3\\lib\\site-packages\\tensorboard\\compat\\tensorflow_stub\\dtypes.py:542: FutureWarning: Passing (type, 1) or '1type' as a synonym of type is deprecated; in a future version of numpy, it will be understood as (type, (1,)) / '(1,)type'.\n",
      "  _np_quint8 = np.dtype([(\"quint8\", np.uint8, 1)])\n",
      "C:\\Users\\YALAVI\\Anaconda3\\lib\\site-packages\\tensorboard\\compat\\tensorflow_stub\\dtypes.py:543: FutureWarning: Passing (type, 1) or '1type' as a synonym of type is deprecated; in a future version of numpy, it will be understood as (type, (1,)) / '(1,)type'.\n",
      "  _np_qint16 = np.dtype([(\"qint16\", np.int16, 1)])\n",
      "C:\\Users\\YALAVI\\Anaconda3\\lib\\site-packages\\tensorboard\\compat\\tensorflow_stub\\dtypes.py:544: FutureWarning: Passing (type, 1) or '1type' as a synonym of type is deprecated; in a future version of numpy, it will be understood as (type, (1,)) / '(1,)type'.\n",
      "  _np_quint16 = np.dtype([(\"quint16\", np.uint16, 1)])\n",
      "C:\\Users\\YALAVI\\Anaconda3\\lib\\site-packages\\tensorboard\\compat\\tensorflow_stub\\dtypes.py:545: FutureWarning: Passing (type, 1) or '1type' as a synonym of type is deprecated; in a future version of numpy, it will be understood as (type, (1,)) / '(1,)type'.\n",
      "  _np_qint32 = np.dtype([(\"qint32\", np.int32, 1)])\n",
      "C:\\Users\\YALAVI\\Anaconda3\\lib\\site-packages\\tensorboard\\compat\\tensorflow_stub\\dtypes.py:550: FutureWarning: Passing (type, 1) or '1type' as a synonym of type is deprecated; in a future version of numpy, it will be understood as (type, (1,)) / '(1,)type'.\n",
      "  np_resource = np.dtype([(\"resource\", np.ubyte, 1)])\n"
     ]
    }
   ],
   "source": [
    "from time import time\n",
    "import numpy as np\n",
    "import keras.backend as K\n",
    "from keras.engine.topology import Layer, InputSpec\n",
    "from keras.layers import Dense, Input\n",
    "from keras.models import Model\n",
    "from keras.optimizers import SGD\n",
    "from keras import callbacks\n",
    "from keras.initializers import VarianceScaling\n",
    "from sklearn.cluster import KMeans\n",
    "import metrics"
   ]
  },
  {
   "cell_type": "code",
   "execution_count": 3,
   "metadata": {},
   "outputs": [],
   "source": [
    "import numpy as np\n",
    "import tensorflow as tf\n",
    "from tensorflow import keras\n"
   ]
  },
  {
   "cell_type": "code",
   "execution_count": 4,
   "metadata": {},
   "outputs": [],
   "source": [
    "from keras.utils import np_utils\n",
    "from keras.models import Sequential\n",
    "from keras.layers import Dense, LSTM, Dropout\n",
    "from keras.callbacks import EarlyStopping\n",
    "from sklearn.preprocessing import StandardScaler\n",
    "\n",
    "import pandas as pd\n",
    "import numpy as np\n",
    "import glob\n",
    "\n",
    "import matplotlib.pyplot as plt\n",
    "import collections\n",
    "%matplotlib inline"
   ]
  },
  {
   "cell_type": "code",
   "execution_count": 5,
   "metadata": {},
   "outputs": [],
   "source": [
    "\n",
    "\n",
    "def create_dataset(X, Y, **options):\n",
    "    \n",
    "    look_back = options.pop('look_back', None)\n",
    "    dataX, dataY = [], []\n",
    "    for i in range(len(X) - look_back):\n",
    "        a = X[i:(i+look_back)]\n",
    "        dataX.append(a)\n",
    "        dataY.append(Y[i + look_back - 1])\n",
    "    return np.array(dataX), np.array(dataY)\n",
    "\n",
    "look_back = 20"
   ]
  },
  {
   "cell_type": "code",
   "execution_count": 6,
   "metadata": {},
   "outputs": [
    {
     "name": "stdout",
     "output_type": "stream",
     "text": [
      "C:\\Keras_Deep_Clustering\\VolvoData\\VolvoData\\2019\\2019w05_ConnectedSafety_EU-0051.csv\n",
      "(56795, 38) (56795,)\n",
      "(56775, 20, 38) (56775,)\n",
      "C:\\Keras_Deep_Clustering\\VolvoData\\VolvoData\\2019\\2019w05_ConnectedSafety_EU-0052.csv\n",
      "(56119, 38) (56119,)\n",
      "(56099, 20, 38) (56099,)\n"
     ]
    }
   ],
   "source": [
    "path = glob.glob(r'C:\\Keras_Deep_Clustering\\VolvoData\\VolvoData\\2019\\*.csv')\n",
    "\n",
    "X_all = np.empty((1, 20, 38))\n",
    "Y_all = np.empty((1,))\n",
    "\n",
    "for i in range(0,2):\n",
    "    print(path[i])\n",
    "    \n",
    "    CutIn = pd.read_csv(path[i], usecols=['Lat','Long','PositionInLane','Velocity','PosLgt1'\n",
    "                                              ,'PosLgt2','PosLgt3','PosLgt4','PosLgt5','PosLat1','PosLat2','PosLat3'\n",
    "                                              ,'PosLat4','VelLgt1','VelLgt2','VelLgt3','VelLgt4','VelLgt5','VelLat1'\n",
    "                                              ,'VelLat2','VelLat3','VelLat4','VelLat5','AccLgt1','AccLgt2','AccLgt3'\n",
    "                                              ,'AccLgt4','AccLgt5','AccLat1','AccLat2','AccLat3','AccLat4','AccLat5'\n",
    "                                              ,'Angle1','Angle2','Angle3','Angle4','Angle5', 'CutIn'])\n",
    "    CutIn.fillna(-1, inplace=True)\n",
    "\n",
    "    \n",
    "        \n",
    "    Y_train = np.array(CutIn['CutIn'].values)\n",
    "    X_train = np.array(CutIn[['Lat','Long','PositionInLane','Velocity','PosLgt1'\n",
    "                                              ,'PosLgt2','PosLgt3','PosLgt4','PosLgt5','PosLat1','PosLat2','PosLat3'\n",
    "                                              ,'PosLat4','VelLgt1','VelLgt2','VelLgt3','VelLgt4','VelLgt5','VelLat1'\n",
    "                                              ,'VelLat2','VelLat3','VelLat4','VelLat5','AccLgt1','AccLgt2','AccLgt3'\n",
    "                                              ,'AccLgt4','AccLgt5','AccLat1','AccLat2','AccLat3','AccLat4','AccLat5'\n",
    "                                              ,'Angle1','Angle2','Angle3','Angle4','Angle5']])\n",
    "\n",
    "\n",
    "    dimof_output = 1\n",
    "    dimof_input = X_train.shape[1]\n",
    "\n",
    "    scaler = StandardScaler()\n",
    "    X_train = scaler.fit_transform(X_train)\n",
    "    print(X_train.shape, Y_train.shape)\n",
    "    \n",
    "    X, Y = create_dataset(X_train, Y_train, look_back=look_back)\n",
    "    print(X.shape, Y.shape)\n",
    "    \n",
    "    X_all = np.append(X_all, X, axis=0)\n",
    "    Y_all = np.append(Y_all, Y, axis=0)"
   ]
  },
  {
   "cell_type": "code",
   "execution_count": 7,
   "metadata": {},
   "outputs": [
    {
     "data": {
      "text/plain": [
       "0"
      ]
     },
     "execution_count": 7,
     "metadata": {},
     "output_type": "execute_result"
    }
   ],
   "source": [
    "np.count_nonzero(np.isnan(Y_all))"
   ]
  },
  {
   "cell_type": "code",
   "execution_count": 8,
   "metadata": {},
   "outputs": [
    {
     "data": {
      "text/plain": [
       "112875"
      ]
     },
     "execution_count": 8,
     "metadata": {},
     "output_type": "execute_result"
    }
   ],
   "source": [
    "Y_all[0]=0\n",
    "len(Y_all)"
   ]
  },
  {
   "cell_type": "code",
   "execution_count": 43,
   "metadata": {},
   "outputs": [
    {
     "data": {
      "text/plain": [
       "2803.0"
      ]
     },
     "execution_count": 43,
     "metadata": {},
     "output_type": "execute_result"
    }
   ],
   "source": [
    "sum(Y_all)"
   ]
  },
  {
   "cell_type": "code",
   "execution_count": 58,
   "metadata": {},
   "outputs": [
    {
     "data": {
      "text/plain": [
       "(112875, 760)"
      ]
     },
     "execution_count": 58,
     "metadata": {},
     "output_type": "execute_result"
    }
   ],
   "source": [
    "x_all.shape"
   ]
  },
  {
   "cell_type": "code",
   "execution_count": 57,
   "metadata": {},
   "outputs": [
    {
     "data": {
      "text/plain": [
       "760"
      ]
     },
     "execution_count": 57,
     "metadata": {},
     "output_type": "execute_result"
    }
   ],
   "source": [
    "x_all.shape[-1]"
   ]
  },
  {
   "cell_type": "code",
   "execution_count": 10,
   "metadata": {
    "scrolled": true
   },
   "outputs": [
    {
     "data": {
      "text/plain": [
       "array([[ 0.        ,  0.        ,  0.        , ...,  0.        ,\n",
       "         0.        ,  0.        ],\n",
       "       [-1.50494611, -0.79463215, -2.14485469, ..., -0.55893689,\n",
       "        -0.27570121, -0.1226972 ],\n",
       "       [-1.50494611, -0.79463215, -2.14485469, ..., -0.55893689,\n",
       "        -0.27570121, -0.1226972 ],\n",
       "       ...,\n",
       "       [ 1.21589746,  2.15238351, -2.2350614 , ..., -0.56395817,\n",
       "        -0.27837641, -0.12388866],\n",
       "       [ 1.21589746,  2.15238351, -2.2350614 , ..., -0.56395817,\n",
       "        -0.27837641, -0.12388866],\n",
       "       [ 1.21589746,  2.15238351, -2.2350614 , ..., -0.56395817,\n",
       "        -0.27837641, -0.12388866]])"
      ]
     },
     "execution_count": 10,
     "metadata": {},
     "output_type": "execute_result"
    }
   ],
   "source": [
    "x_all = X_all.reshape((X_all.shape[0], -1))\n",
    "x_all"
   ]
  },
  {
   "cell_type": "code",
   "execution_count": 11,
   "metadata": {},
   "outputs": [
    {
     "data": {
      "text/plain": [
       "85785000"
      ]
     },
     "execution_count": 11,
     "metadata": {},
     "output_type": "execute_result"
    }
   ],
   "source": [
    "x_all = x_all.astype(np.uint8)\n",
    "x_all.nbytes"
   ]
  },
  {
   "cell_type": "code",
   "execution_count": 42,
   "metadata": {},
   "outputs": [
    {
     "data": {
      "text/plain": [
       "112875"
      ]
     },
     "execution_count": 42,
     "metadata": {},
     "output_type": "execute_result"
    }
   ],
   "source": [
    "len(Y_all)"
   ]
  },
  {
   "cell_type": "code",
   "execution_count": null,
   "metadata": {},
   "outputs": [],
   "source": []
  },
  {
   "cell_type": "code",
   "execution_count": 12,
   "metadata": {},
   "outputs": [],
   "source": [
    "from sklearn import preprocessing\n",
    "standardized_X = preprocessing.scale(x_all)"
   ]
  },
  {
   "cell_type": "code",
   "execution_count": 13,
   "metadata": {},
   "outputs": [],
   "source": [
    "x_all = np.round(standardized_X , 4)"
   ]
  },
  {
   "cell_type": "markdown",
   "metadata": {},
   "source": [
    "# K-means as baseline"
   ]
  },
  {
   "cell_type": "code",
   "execution_count": 14,
   "metadata": {},
   "outputs": [],
   "source": [
    "from sklearn.cluster import KMeans\n",
    "\n",
    "\n",
    "kmeans_under = KMeans(n_clusters=2, n_init=20 , n_jobs=4)   \n",
    "y_pred_kmeans = kmeans_under.fit_predict(x_all)"
   ]
  },
  {
   "cell_type": "code",
   "execution_count": 15,
   "metadata": {},
   "outputs": [
    {
     "data": {
      "text/plain": [
       "(112875,)"
      ]
     },
     "execution_count": 15,
     "metadata": {},
     "output_type": "execute_result"
    }
   ],
   "source": [
    "y_pred_kmeans.shape"
   ]
  },
  {
   "cell_type": "code",
   "execution_count": 16,
   "metadata": {},
   "outputs": [
    {
     "name": "stderr",
     "output_type": "stream",
     "text": [
      "C:\\Users\\YALAVI\\Anaconda3\\lib\\site-packages\\sklearn\\utils\\linear_assignment_.py:22: FutureWarning: The linear_assignment_ module is deprecated in 0.21 and will be removed from 0.23. Use scipy.optimize.linear_sum_assignment instead.\n",
      "  FutureWarning)\n",
      "C:\\Users\\YALAVI\\Anaconda3\\lib\\site-packages\\sklearn\\utils\\linear_assignment_.py:128: FutureWarning: The linear_assignment function is deprecated in 0.21 and will be removed from 0.23. Use scipy.optimize.linear_sum_assignment instead.\n",
      "  FutureWarning)\n"
     ]
    },
    {
     "data": {
      "text/plain": [
       "0.769328903654485"
      ]
     },
     "execution_count": 16,
     "metadata": {},
     "output_type": "execute_result"
    }
   ],
   "source": [
    "metrics.acc(Y_all, y_pred_kmeans)"
   ]
  },
  {
   "cell_type": "code",
   "execution_count": 17,
   "metadata": {},
   "outputs": [
    {
     "data": {
      "text/plain": [
       "array([[86814, 23258],\n",
       "       [ 2779,    24]], dtype=int64)"
      ]
     },
     "execution_count": 17,
     "metadata": {},
     "output_type": "execute_result"
    }
   ],
   "source": [
    "from sklearn.metrics import confusion_matrix\n",
    "conf_mat = confusion_matrix(Y_all, y_pred_kmeans)\n",
    "conf_mat"
   ]
  },
  {
   "cell_type": "code",
   "execution_count": 18,
   "metadata": {},
   "outputs": [
    {
     "data": {
      "image/png": "[encoded data removed]",
      "text/plain": [
       "<Figure size 432x288 with 2 Axes>"
      ]
     },
     "metadata": {
      "needs_background": "light"
     },
     "output_type": "display_data"
    }
   ],
   "source": [
    "labels = ['Class 0', 'Class 1']\n",
    "fig = plt.figure()\n",
    "ax = fig.add_subplot(111)\n",
    "cax = ax.matshow(conf_mat , cmap=plt.cm.Blues)\n",
    "fig.colorbar(cax)\n",
    "ax.set_xticklabels([''] + labels)\n",
    "ax.set_yticklabels([''] + labels)\n",
    "plt.xlabel('Predicted')\n",
    "plt.ylabel('Expected')\n",
    "plt.show()"
   ]
  },
  {
   "cell_type": "code",
   "execution_count": 55,
   "metadata": {},
   "outputs": [
    {
     "name": "stdout",
     "output_type": "stream",
     "text": [
      "[0 1 1 ... 1 1 1]\n"
     ]
    }
   ],
   "source": [
    "print(y_pred_kmeans)"
   ]
  },
  {
   "cell_type": "markdown",
   "metadata": {},
   "source": [
    "### Hyper parameters"
   ]
  },
  {
   "cell_type": "code",
   "execution_count": 19,
   "metadata": {},
   "outputs": [],
   "source": [
    "def autoencoder(dims, act='relu', init='glorot_uniform'):\n",
    "\n",
    "    n_stacks = len(dims) - 1\n",
    "    input_img = Input(shape=(dims[0],), name='input')\n",
    "    x = input_img\n",
    "    for i in range(n_stacks-1):\n",
    "        x = Dense(dims[i + 1], activation=act, kernel_initializer=init, name='encoder_%d' % i)(x)\n",
    "\n",
    "    encoded = Dense(dims[-1], kernel_initializer=init, name='encoder_%d' % (n_stacks - 1))(x) \n",
    "\n",
    "    x = encoded\n",
    "    for i in range(n_stacks-1, 0, -1):\n",
    "        x = Dense(dims[i], activation=act, kernel_initializer=init, name='decoder_%d' % i)(x)\n",
    "\n",
    "    x = Dense(dims[0], kernel_initializer=init, name='decoder_0')(x)\n",
    "    decoded = x\n",
    "    return Model(inputs=input_img, outputs=decoded, name='AE'), Model(inputs=input_img, outputs=encoded, name='encoder')\n"
   ]
  },
  {
   "cell_type": "code",
   "execution_count": 20,
   "metadata": {},
   "outputs": [],
   "source": [
    "dims = [x_all.shape[-1], 500, 500, 1000, 64]\n",
    "init = VarianceScaling(scale=1. / 3., mode='fan_in',\n",
    "                           distribution='uniform')\n",
    "pretrain_optimizer = SGD(lr=0.1, momentum=0.9)\n",
    "pretrain_epochs = 100\n",
    "batch_size = 256\n",
    "save_dir = r'C:\\Users\\YALAVI\\Anaconda3\\Lib\\site-packages\\statsmodels\\tsa\\vector_ar\\tests\\results'"
   ]
  },
  {
   "cell_type": "code",
   "execution_count": 21,
   "metadata": {},
   "outputs": [],
   "source": [
    "autoencoder, encoder = autoencoder(dims, init=init)"
   ]
  },
  {
   "cell_type": "code",
   "execution_count": 24,
   "metadata": {},
   "outputs": [],
   "source": [
    "from keras.callbacks import EarlyStopping\n",
    "usualCallback = EarlyStopping()\n",
    "\n",
    "overfitCallback = EarlyStopping(monitor='loss', min_delta=0, patience = 20)"
   ]
  },
  {
   "cell_type": "markdown",
   "metadata": {},
   "source": [
    "### Pre-train autoencoder"
   ]
  },
  {
   "cell_type": "code",
   "execution_count": 25,
   "metadata": {},
   "outputs": [
    {
     "name": "stdout",
     "output_type": "stream",
     "text": [
      "Epoch 1/100\n",
      "112875/112875 [==============================] - 52s 462us/step - loss: 0.6820\n",
      "Epoch 2/100\n",
      "112875/112875 [==============================] - 52s 465us/step - loss: 0.3891\n",
      "Epoch 3/100\n",
      "112875/112875 [==============================] - 56s 499us/step - loss: 0.2904\n",
      "Epoch 4/100\n",
      "112875/112875 [==============================] - 51s 448us/step - loss: 0.2372\n",
      "Epoch 5/100\n",
      "112875/112875 [==============================] - 50s 444us/step - loss: 0.2008\n",
      "Epoch 6/100\n",
      "112875/112875 [==============================] - 52s 464us/step - loss: 0.1773\n",
      "Epoch 7/100\n",
      "112875/112875 [==============================] - 51s 450us/step - loss: 0.1584\n",
      "Epoch 8/100\n",
      "112875/112875 [==============================] - 51s 453us/step - loss: 0.1457\n",
      "Epoch 9/100\n",
      "112875/112875 [==============================] - 54s 482us/step - loss: 0.1371\n",
      "Epoch 10/100\n",
      "112875/112875 [==============================] - 54s 482us/step - loss: 0.1285\n",
      "Epoch 11/100\n",
      "112875/112875 [==============================] - 53s 473us/step - loss: 0.1221\n",
      "Epoch 12/100\n",
      "112875/112875 [==============================] - 55s 488us/step - loss: 0.1170\n",
      "Epoch 13/100\n",
      "112875/112875 [==============================] - 51s 451us/step - loss: 0.1122\n",
      "Epoch 14/100\n",
      "112875/112875 [==============================] - 52s 463us/step - loss: 0.1099\n",
      "Epoch 15/100\n",
      "112875/112875 [==============================] - 51s 456us/step - loss: 0.1052\n",
      "Epoch 16/100\n",
      "112875/112875 [==============================] - 54s 483us/step - loss: 0.1015\n",
      "Epoch 17/100\n",
      "112875/112875 [==============================] - 55s 487us/step - loss: 0.0983\n",
      "Epoch 18/100\n",
      "112875/112875 [==============================] - 52s 459us/step - loss: 0.0956\n",
      "Epoch 19/100\n",
      "112875/112875 [==============================] - 53s 472us/step - loss: 0.09350s - loss: 0.\n",
      "Epoch 20/100\n",
      "112875/112875 [==============================] - 53s 467us/step - loss: 0.0918\n",
      "Epoch 21/100\n",
      "112875/112875 [==============================] - 51s 452us/step - loss: 0.0896\n",
      "Epoch 22/100\n",
      "112875/112875 [==============================] - 51s 452us/step - loss: 0.0881\n",
      "Epoch 23/100\n",
      "112875/112875 [==============================] - 51s 454us/step - loss: 0.0860\n",
      "Epoch 24/100\n",
      "112875/112875 [==============================] - 51s 448us/step - loss: 0.0849\n",
      "Epoch 25/100\n",
      "112875/112875 [==============================] - 52s 463us/step - loss: 0.0836\n",
      "Epoch 26/100\n",
      "112875/112875 [==============================] - 51s 453us/step - loss: 0.0819\n",
      "Epoch 27/100\n",
      "112875/112875 [==============================] - 50s 442us/step - loss: 0.0804\n",
      "Epoch 28/100\n",
      "112875/112875 [==============================] - 50s 441us/step - loss: 0.0788\n",
      "Epoch 29/100\n",
      "112875/112875 [==============================] - 50s 442us/step - loss: 0.0780\n",
      "Epoch 30/100\n",
      "112875/112875 [==============================] - 51s 452us/step - loss: 0.0772\n",
      "Epoch 31/100\n",
      "112875/112875 [==============================] - 52s 460us/step - loss: 0.0753\n",
      "Epoch 32/100\n",
      "112875/112875 [==============================] - 50s 445us/step - loss: 0.0741\n",
      "Epoch 33/100\n",
      "112875/112875 [==============================] - 50s 441us/step - loss: 0.0732\n",
      "Epoch 34/100\n",
      "112875/112875 [==============================] - 50s 442us/step - loss: 0.0721\n",
      "Epoch 35/100\n",
      "112875/112875 [==============================] - 50s 440us/step - loss: 0.0711\n",
      "Epoch 36/100\n",
      "112875/112875 [==============================] - 50s 440us/step - loss: 0.0701\n",
      "Epoch 37/100\n",
      "112875/112875 [==============================] - 50s 443us/step - loss: 0.0689\n",
      "Epoch 38/100\n",
      "112875/112875 [==============================] - 50s 446us/step - loss: 0.0680\n",
      "Epoch 39/100\n",
      "112875/112875 [==============================] - 50s 442us/step - loss: 0.0669\n",
      "Epoch 40/100\n",
      "112875/112875 [==============================] - 55s 487us/step - loss: 0.0662\n",
      "Epoch 41/100\n",
      "112875/112875 [==============================] - 50s 443us/step - loss: 0.0654\n",
      "Epoch 42/100\n",
      "112875/112875 [==============================] - 49s 437us/step - loss: 0.0649\n",
      "Epoch 43/100\n",
      "112875/112875 [==============================] - 50s 439us/step - loss: 0.0643\n",
      "Epoch 44/100\n",
      "112875/112875 [==============================] - 51s 450us/step - loss: 0.0632\n",
      "Epoch 45/100\n",
      "112875/112875 [==============================] - 50s 444us/step - loss: 0.0624\n",
      "Epoch 46/100\n",
      "112875/112875 [==============================] - 50s 442us/step - loss: 0.0624\n",
      "Epoch 47/100\n",
      "112875/112875 [==============================] - 49s 438us/step - loss: 0.0618\n",
      "Epoch 48/100\n",
      "112875/112875 [==============================] - 50s 447us/step - loss: 0.0610\n",
      "Epoch 49/100\n",
      "112875/112875 [==============================] - 50s 444us/step - loss: 0.0596\n",
      "Epoch 50/100\n",
      "112875/112875 [==============================] - 50s 444us/step - loss: 0.0587\n",
      "Epoch 51/100\n",
      "112875/112875 [==============================] - 51s 450us/step - loss: 0.0584\n",
      "Epoch 52/100\n",
      "112875/112875 [==============================] - 51s 454us/step - loss: 0.0574\n",
      "Epoch 53/100\n",
      "112875/112875 [==============================] - 51s 453us/step - loss: 0.0569\n",
      "Epoch 54/100\n",
      "112875/112875 [==============================] - 50s 444us/step - loss: 0.0562\n",
      "Epoch 55/100\n",
      "112875/112875 [==============================] - 50s 442us/step - loss: 0.0556\n",
      "Epoch 56/100\n",
      "112875/112875 [==============================] - 50s 443us/step - loss: 0.0550\n",
      "Epoch 57/100\n",
      "112875/112875 [==============================] - 49s 437us/step - loss: 0.0545\n",
      "Epoch 58/100\n",
      "112875/112875 [==============================] - 51s 452us/step - loss: 0.0538\n",
      "Epoch 59/100\n",
      "112875/112875 [==============================] - 50s 447us/step - loss: 0.0536\n",
      "Epoch 60/100\n",
      "112875/112875 [==============================] - 51s 451us/step - loss: 0.0528\n",
      "Epoch 61/100\n",
      "112875/112875 [==============================] - 51s 453us/step - loss: 0.0522\n",
      "Epoch 62/100\n",
      "112875/112875 [==============================] - 50s 439us/step - loss: 0.0518\n",
      "Epoch 63/100\n",
      "112875/112875 [==============================] - 52s 464us/step - loss: 0.0514\n",
      "Epoch 64/100\n",
      "112875/112875 [==============================] - 56s 493us/step - loss: 0.0509\n",
      "Epoch 65/100\n",
      "112875/112875 [==============================] - 52s 459us/step - loss: 0.0502\n",
      "Epoch 66/100\n",
      "112875/112875 [==============================] - 51s 448us/step - loss: 0.0495\n",
      "Epoch 67/100\n",
      "112875/112875 [==============================] - 52s 462us/step - loss: 0.0492\n",
      "Epoch 68/100\n",
      "112875/112875 [==============================] - 50s 445us/step - loss: 0.0490\n",
      "Epoch 69/100\n",
      "112875/112875 [==============================] - 50s 446us/step - loss: 0.0483\n",
      "Epoch 70/100\n",
      "112875/112875 [==============================] - 51s 449us/step - loss: 0.0479\n",
      "Epoch 71/100\n",
      "112875/112875 [==============================] - 50s 444us/step - loss: 0.0473\n",
      "Epoch 72/100\n",
      "112875/112875 [==============================] - 50s 447us/step - loss: 0.0471\n",
      "Epoch 73/100\n",
      "112875/112875 [==============================] - 50s 445us/step - loss: 0.0466\n",
      "Epoch 74/100\n",
      "112875/112875 [==============================] - 50s 443us/step - loss: 0.0462\n",
      "Epoch 75/100\n",
      "112875/112875 [==============================] - 50s 445us/step - loss: 0.0456\n",
      "Epoch 76/100\n",
      "112875/112875 [==============================] - 50s 445us/step - loss: 0.0455\n",
      "Epoch 77/100\n",
      "112875/112875 [==============================] - 50s 446us/step - loss: 0.0452\n",
      "Epoch 78/100\n",
      "112875/112875 [==============================] - 50s 445us/step - loss: 0.0448\n",
      "Epoch 79/100\n",
      "112875/112875 [==============================] - 50s 445us/step - loss: 0.0451\n",
      "Epoch 80/100\n",
      "112875/112875 [==============================] - 50s 445us/step - loss: 0.0451\n",
      "Epoch 81/100\n",
      "112875/112875 [==============================] - 51s 451us/step - loss: 0.0438\n",
      "Epoch 82/100\n",
      "112875/112875 [==============================] - 55s 486us/step - loss: 0.0436\n",
      "Epoch 83/100\n",
      "112875/112875 [==============================] - 52s 460us/step - loss: 0.0430\n",
      "Epoch 84/100\n",
      "112875/112875 [==============================] - 51s 454us/step - loss: 0.0426\n",
      "Epoch 85/100\n",
      "112875/112875 [==============================] - 51s 453us/step - loss: 0.0424\n",
      "Epoch 86/100\n",
      "112875/112875 [==============================] - 54s 474us/step - loss: 0.0421\n",
      "Epoch 87/100\n",
      "112875/112875 [==============================] - 56s 497us/step - loss: 0.0417\n",
      "Epoch 88/100\n",
      "112875/112875 [==============================] - 50s 444us/step - loss: 0.0414\n",
      "Epoch 89/100\n",
      "112875/112875 [==============================] - 49s 439us/step - loss: 0.0409\n",
      "Epoch 90/100\n"
     ]
    },
    {
     "name": "stdout",
     "output_type": "stream",
     "text": [
      "112875/112875 [==============================] - 49s 438us/step - loss: 0.0407\n",
      "Epoch 91/100\n",
      "112875/112875 [==============================] - 50s 444us/step - loss: 0.0404\n",
      "Epoch 92/100\n",
      "112875/112875 [==============================] - 50s 442us/step - loss: 0.0415\n",
      "Epoch 93/100\n",
      "112875/112875 [==============================] - 50s 442us/step - loss: 0.0404\n",
      "Epoch 94/100\n",
      "112875/112875 [==============================] - 50s 442us/step - loss: 0.0401\n",
      "Epoch 95/100\n",
      "112875/112875 [==============================] - 50s 445us/step - loss: 0.0393\n",
      "Epoch 96/100\n",
      "112875/112875 [==============================] - 50s 441us/step - loss: 0.0389\n",
      "Epoch 97/100\n",
      "112875/112875 [==============================] - 50s 447us/step - loss: 0.0387\n",
      "Epoch 98/100\n",
      "112875/112875 [==============================] - 50s 443us/step - loss: 0.0384\n",
      "Epoch 99/100\n",
      "112875/112875 [==============================] - 50s 442us/step - loss: 0.0382\n",
      "Epoch 100/100\n",
      "112875/112875 [==============================] - 50s 440us/step - loss: 0.0380\n"
     ]
    }
   ],
   "source": [
    "\n",
    "\n",
    "autoencoder.compile(optimizer=pretrain_optimizer, loss='mse')\n",
    "autoencoder.fit(x_all, x_all, batch_size=batch_size, epochs=pretrain_epochs , callbacks=[overfitCallback] ) #, callbacks=cb)\n",
    "autoencoder.save_weights(save_dir + '/ae_weights.h5')\n",
    "\n"
   ]
  },
  {
   "cell_type": "code",
   "execution_count": 26,
   "metadata": {},
   "outputs": [],
   "source": [
    "\n",
    "autoencoder.save_weights(save_dir + '/ae_weights.h5')"
   ]
  },
  {
   "cell_type": "markdown",
   "metadata": {},
   "source": [
    " #### Load the pre-trained auto encoder weights"
   ]
  },
  {
   "cell_type": "code",
   "execution_count": 27,
   "metadata": {},
   "outputs": [],
   "source": [
    "autoencoder.load_weights(save_dir + '/ae_weights.h5')"
   ]
  },
  {
   "cell_type": "markdown",
   "metadata": {},
   "source": [
    "## Build clustering model"
   ]
  },
  {
   "cell_type": "markdown",
   "metadata": {},
   "source": [
    "### ClusteringLayer"
   ]
  },
  {
   "cell_type": "code",
   "execution_count": 28,
   "metadata": {},
   "outputs": [],
   "source": [
    "class ClusteringLayer(Layer):\n",
    " \n",
    "    def __init__(self, n_clusters, weights=None, alpha=1.0, **kwargs):\n",
    "        if 'input_shape' not in kwargs and 'input_dim' in kwargs:\n",
    "            kwargs['input_shape'] = (kwargs.pop('input_dim'),)\n",
    "        super(ClusteringLayer, self).__init__(**kwargs)\n",
    "        self.n_clusters = n_clusters\n",
    "        self.alpha = alpha\n",
    "        self.initial_weights = weights\n",
    "        self.input_spec = InputSpec(ndim=2)\n",
    "\n",
    "    def build(self, input_shape):\n",
    "        assert len(input_shape) == 2\n",
    "        input_dim = input_shape[1]\n",
    "        self.input_spec = InputSpec(dtype=K.floatx(), shape=(None, input_dim))\n",
    "        self.clusters = self.add_weight(shape=(self.n_clusters, input_dim), initializer='glorot_uniform', name='clusters')\n",
    "        if self.initial_weights is not None:\n",
    "            self.set_weights(self.initial_weights)\n",
    "            del self.initial_weights\n",
    "        self.built = True\n",
    "\n",
    "    def call(self, inputs, **kwargs):\n",
    "\n",
    "        q = 1.0 / (1.0 + (K.sum(K.square(K.expand_dims(inputs, axis=1) - self.clusters), axis=2) / self.alpha))\n",
    "        q **= (self.alpha + 1.0) / 2.0\n",
    "        q = K.transpose(K.transpose(q) / K.sum(q, axis=1)) \n",
    "        return q\n",
    "\n",
    "    def compute_output_shape(self, input_shape):\n",
    "        assert input_shape and len(input_shape) == 2\n",
    "        return input_shape[0], self.n_clusters\n",
    "\n",
    "    def get_config(self):\n",
    "        config = {'n_clusters': self.n_clusters}\n",
    "        base_config = super(ClusteringLayer, self).get_config()\n",
    "        return dict(list(base_config.items()) + list(config.items()))\n"
   ]
  },
  {
   "cell_type": "code",
   "execution_count": 29,
   "metadata": {},
   "outputs": [],
   "source": [
    "n_clusters = 2\n",
    "clustering_layer = ClusteringLayer(n_clusters , name='clustering')(encoder.output)\n",
    "model = Model(inputs=encoder.input, outputs=clustering_layer)"
   ]
  },
  {
   "cell_type": "code",
   "execution_count": 31,
   "metadata": {},
   "outputs": [],
   "source": [
    "model.compile(optimizer=SGD(0.01, 0.9), loss='kld')"
   ]
  },
  {
   "cell_type": "markdown",
   "metadata": {},
   "source": [
    "### Step 1: initialize cluster centers using k-means"
   ]
  },
  {
   "cell_type": "code",
   "execution_count": 32,
   "metadata": {},
   "outputs": [],
   "source": [
    "kmeans = KMeans(n_clusters=n_clusters, n_init=20)\n",
    "y_pred = kmeans.fit_predict(encoder.predict(x_all))"
   ]
  },
  {
   "cell_type": "code",
   "execution_count": 33,
   "metadata": {},
   "outputs": [
    {
     "data": {
      "text/plain": [
       "112875"
      ]
     },
     "execution_count": 33,
     "metadata": {},
     "output_type": "execute_result"
    }
   ],
   "source": [
    "len(y_pred)"
   ]
  },
  {
   "cell_type": "code",
   "execution_count": 34,
   "metadata": {},
   "outputs": [
    {
     "data": {
      "text/plain": [
       "8998"
      ]
     },
     "execution_count": 34,
     "metadata": {},
     "output_type": "execute_result"
    }
   ],
   "source": [
    "sum(y_pred)"
   ]
  },
  {
   "cell_type": "code",
   "execution_count": 35,
   "metadata": {},
   "outputs": [],
   "source": [
    "y_pred_last = np.copy(y_pred)"
   ]
  },
  {
   "cell_type": "code",
   "execution_count": 36,
   "metadata": {},
   "outputs": [],
   "source": [
    "model.get_layer(name='clustering').set_weights([kmeans.cluster_centers_])"
   ]
  },
  {
   "cell_type": "markdown",
   "metadata": {},
   "source": [
    "### Step 2: deep clustering\n"
   ]
  },
  {
   "cell_type": "code",
   "execution_count": 37,
   "metadata": {},
   "outputs": [],
   "source": [
    "def target_distribution(q):\n",
    "    weight = q ** 2 / q.sum(0)\n",
    "    return (weight.T / weight.sum(1)).T"
   ]
  },
  {
   "cell_type": "code",
   "execution_count": 38,
   "metadata": {},
   "outputs": [],
   "source": [
    "loss = 0\n",
    "index = 0\n",
    "maxiter = 8000\n",
    "update_interval = 140\n",
    "index_array = np.arange(x_all.shape[0])"
   ]
  },
  {
   "cell_type": "code",
   "execution_count": 39,
   "metadata": {},
   "outputs": [],
   "source": [
    "tol = 0.001"
   ]
  },
  {
   "cell_type": "markdown",
   "metadata": {},
   "source": [
    "### Start training"
   ]
  },
  {
   "cell_type": "code",
   "execution_count": 40,
   "metadata": {},
   "outputs": [
    {
     "name": "stderr",
     "output_type": "stream",
     "text": [
      "C:\\Users\\YALAVI\\Anaconda3\\lib\\site-packages\\sklearn\\utils\\linear_assignment_.py:128: FutureWarning: The linear_assignment function is deprecated in 0.21 and will be removed from 0.23. Use scipy.optimize.linear_sum_assignment instead.\n",
      "  FutureWarning)\n"
     ]
    },
    {
     "name": "stdout",
     "output_type": "stream",
     "text": [
      "Iter 0: acc = 0.90621, nmi = 0.01179, ari = 0.06052  ; loss= 0\n"
     ]
    },
    {
     "name": "stderr",
     "output_type": "stream",
     "text": [
      "C:\\Users\\YALAVI\\Anaconda3\\lib\\site-packages\\sklearn\\utils\\linear_assignment_.py:128: FutureWarning: The linear_assignment function is deprecated in 0.21 and will be removed from 0.23. Use scipy.optimize.linear_sum_assignment instead.\n",
      "  FutureWarning)\n"
     ]
    },
    {
     "name": "stdout",
     "output_type": "stream",
     "text": [
      "Iter 140: acc = 0.87644, nmi = 0.01011, ari = 0.05047  ; loss= 0.1628\n"
     ]
    },
    {
     "name": "stderr",
     "output_type": "stream",
     "text": [
      "C:\\Users\\YALAVI\\Anaconda3\\lib\\site-packages\\sklearn\\utils\\linear_assignment_.py:128: FutureWarning: The linear_assignment function is deprecated in 0.21 and will be removed from 0.23. Use scipy.optimize.linear_sum_assignment instead.\n",
      "  FutureWarning)\n"
     ]
    },
    {
     "name": "stdout",
     "output_type": "stream",
     "text": [
      "Iter 280: acc = 0.82773, nmi = 0.01197, ari = 0.04613  ; loss= 0.02848\n"
     ]
    },
    {
     "name": "stderr",
     "output_type": "stream",
     "text": [
      "C:\\Users\\YALAVI\\Anaconda3\\lib\\site-packages\\sklearn\\utils\\linear_assignment_.py:128: FutureWarning: The linear_assignment function is deprecated in 0.21 and will be removed from 0.23. Use scipy.optimize.linear_sum_assignment instead.\n",
      "  FutureWarning)\n"
     ]
    },
    {
     "name": "stdout",
     "output_type": "stream",
     "text": [
      "Iter 420: acc = 0.77834, nmi = 0.01063, ari = 0.03528  ; loss= 0.02998\n"
     ]
    },
    {
     "name": "stderr",
     "output_type": "stream",
     "text": [
      "C:\\Users\\YALAVI\\Anaconda3\\lib\\site-packages\\sklearn\\utils\\linear_assignment_.py:128: FutureWarning: The linear_assignment function is deprecated in 0.21 and will be removed from 0.23. Use scipy.optimize.linear_sum_assignment instead.\n",
      "  FutureWarning)\n"
     ]
    },
    {
     "name": "stdout",
     "output_type": "stream",
     "text": [
      "Iter 560: acc = 0.73986, nmi = 0.00890, ari = 0.02695  ; loss= 0.00545\n"
     ]
    },
    {
     "name": "stderr",
     "output_type": "stream",
     "text": [
      "C:\\Users\\YALAVI\\Anaconda3\\lib\\site-packages\\sklearn\\utils\\linear_assignment_.py:128: FutureWarning: The linear_assignment function is deprecated in 0.21 and will be removed from 0.23. Use scipy.optimize.linear_sum_assignment instead.\n",
      "  FutureWarning)\n"
     ]
    },
    {
     "name": "stdout",
     "output_type": "stream",
     "text": [
      "Iter 700: acc = 0.71532, nmi = 0.00803, ari = 0.02256  ; loss= 0.043\n"
     ]
    },
    {
     "name": "stderr",
     "output_type": "stream",
     "text": [
      "C:\\Users\\YALAVI\\Anaconda3\\lib\\site-packages\\sklearn\\utils\\linear_assignment_.py:128: FutureWarning: The linear_assignment function is deprecated in 0.21 and will be removed from 0.23. Use scipy.optimize.linear_sum_assignment instead.\n",
      "  FutureWarning)\n"
     ]
    },
    {
     "name": "stdout",
     "output_type": "stream",
     "text": [
      "Iter 840: acc = 0.70489, nmi = 0.00773, ari = 0.02091  ; loss= 0.00681\n"
     ]
    },
    {
     "name": "stderr",
     "output_type": "stream",
     "text": [
      "C:\\Users\\YALAVI\\Anaconda3\\lib\\site-packages\\sklearn\\utils\\linear_assignment_.py:128: FutureWarning: The linear_assignment function is deprecated in 0.21 and will be removed from 0.23. Use scipy.optimize.linear_sum_assignment instead.\n",
      "  FutureWarning)\n"
     ]
    },
    {
     "name": "stdout",
     "output_type": "stream",
     "text": [
      "Iter 980: acc = 0.70323, nmi = 0.00803, ari = 0.02112  ; loss= 0.00344\n"
     ]
    },
    {
     "name": "stderr",
     "output_type": "stream",
     "text": [
      "C:\\Users\\YALAVI\\Anaconda3\\lib\\site-packages\\sklearn\\utils\\linear_assignment_.py:128: FutureWarning: The linear_assignment function is deprecated in 0.21 and will be removed from 0.23. Use scipy.optimize.linear_sum_assignment instead.\n",
      "  FutureWarning)\n"
     ]
    },
    {
     "name": "stdout",
     "output_type": "stream",
     "text": [
      "Iter 1120: acc = 0.69989, nmi = 0.00818, ari = 0.02091  ; loss= 0.10138\n"
     ]
    },
    {
     "name": "stderr",
     "output_type": "stream",
     "text": [
      "C:\\Users\\YALAVI\\Anaconda3\\lib\\site-packages\\sklearn\\utils\\linear_assignment_.py:128: FutureWarning: The linear_assignment function is deprecated in 0.21 and will be removed from 0.23. Use scipy.optimize.linear_sum_assignment instead.\n",
      "  FutureWarning)\n"
     ]
    },
    {
     "name": "stdout",
     "output_type": "stream",
     "text": [
      "Iter 1260: acc = 0.69704, nmi = 0.00816, ari = 0.02054  ; loss= 0.01081\n"
     ]
    },
    {
     "name": "stderr",
     "output_type": "stream",
     "text": [
      "C:\\Users\\YALAVI\\Anaconda3\\lib\\site-packages\\sklearn\\utils\\linear_assignment_.py:128: FutureWarning: The linear_assignment function is deprecated in 0.21 and will be removed from 0.23. Use scipy.optimize.linear_sum_assignment instead.\n",
      "  FutureWarning)\n"
     ]
    },
    {
     "name": "stdout",
     "output_type": "stream",
     "text": [
      "Iter 1400: acc = 0.69267, nmi = 0.00797, ari = 0.01979  ; loss= 0.01105\n"
     ]
    },
    {
     "name": "stderr",
     "output_type": "stream",
     "text": [
      "C:\\Users\\YALAVI\\Anaconda3\\lib\\site-packages\\sklearn\\utils\\linear_assignment_.py:128: FutureWarning: The linear_assignment function is deprecated in 0.21 and will be removed from 0.23. Use scipy.optimize.linear_sum_assignment instead.\n",
      "  FutureWarning)\n"
     ]
    },
    {
     "name": "stdout",
     "output_type": "stream",
     "text": [
      "Iter 1540: acc = 0.68936, nmi = 0.00807, ari = 0.01953  ; loss= 0.00144\n"
     ]
    },
    {
     "name": "stderr",
     "output_type": "stream",
     "text": [
      "C:\\Users\\YALAVI\\Anaconda3\\lib\\site-packages\\sklearn\\utils\\linear_assignment_.py:128: FutureWarning: The linear_assignment function is deprecated in 0.21 and will be removed from 0.23. Use scipy.optimize.linear_sum_assignment instead.\n",
      "  FutureWarning)\n"
     ]
    },
    {
     "name": "stdout",
     "output_type": "stream",
     "text": [
      "Iter 1680: acc = 0.68315, nmi = 0.00792, ari = 0.01862  ; loss= 0.00356\n"
     ]
    },
    {
     "name": "stderr",
     "output_type": "stream",
     "text": [
      "C:\\Users\\YALAVI\\Anaconda3\\lib\\site-packages\\sklearn\\utils\\linear_assignment_.py:128: FutureWarning: The linear_assignment function is deprecated in 0.21 and will be removed from 0.23. Use scipy.optimize.linear_sum_assignment instead.\n",
      "  FutureWarning)\n"
     ]
    },
    {
     "name": "stdout",
     "output_type": "stream",
     "text": [
      "Iter 1820: acc = 0.68408, nmi = 0.00790, ari = 0.01872  ; loss= 0.03261\n"
     ]
    },
    {
     "name": "stderr",
     "output_type": "stream",
     "text": [
      "C:\\Users\\YALAVI\\Anaconda3\\lib\\site-packages\\sklearn\\utils\\linear_assignment_.py:128: FutureWarning: The linear_assignment function is deprecated in 0.21 and will be removed from 0.23. Use scipy.optimize.linear_sum_assignment instead.\n",
      "  FutureWarning)\n"
     ]
    },
    {
     "name": "stdout",
     "output_type": "stream",
     "text": [
      "Iter 1960: acc = 0.68307, nmi = 0.00793, ari = 0.01863  ; loss= 0.0143\n"
     ]
    },
    {
     "name": "stderr",
     "output_type": "stream",
     "text": [
      "C:\\Users\\YALAVI\\Anaconda3\\lib\\site-packages\\sklearn\\utils\\linear_assignment_.py:128: FutureWarning: The linear_assignment function is deprecated in 0.21 and will be removed from 0.23. Use scipy.optimize.linear_sum_assignment instead.\n",
      "  FutureWarning)\n"
     ]
    },
    {
     "name": "stdout",
     "output_type": "stream",
     "text": [
      "Iter 2100: acc = 0.68092, nmi = 0.00805, ari = 0.01851  ; loss= 0.0032\n"
     ]
    },
    {
     "name": "stderr",
     "output_type": "stream",
     "text": [
      "C:\\Users\\YALAVI\\Anaconda3\\lib\\site-packages\\sklearn\\utils\\linear_assignment_.py:128: FutureWarning: The linear_assignment function is deprecated in 0.21 and will be removed from 0.23. Use scipy.optimize.linear_sum_assignment instead.\n",
      "  FutureWarning)\n"
     ]
    },
    {
     "name": "stdout",
     "output_type": "stream",
     "text": [
      "Iter 2240: acc = 0.68020, nmi = 0.00799, ari = 0.01836  ; loss= 0.00841\n",
      "delta_label  0.0009125138427464009 < tol  0.001\n",
      "Reached tolerance threshold. Stopping training.\n"
     ]
    },
    {
     "data": {
      "image/png": "[encoded data removed]",
      "text/plain": [
       "<Figure size 432x288 with 1 Axes>"
      ]
     },
     "metadata": {
      "needs_background": "light"
     },
     "output_type": "display_data"
    }
   ],
   "source": [
    "for ite in range(int(maxiter)):\n",
    "    if ite % update_interval == 0:\n",
    "        q = model.predict(x_all, verbose=0)\n",
    "        p = target_distribution(q) \n",
    "\n",
    "        y_pred = q.argmax(1)\n",
    "        if Y_all is not None:\n",
    "            acc = np.round(metrics.acc(Y_all, y_pred), 5)\n",
    "            nmi = np.round(metrics.nmi(Y_all, y_pred), 5)\n",
    "            ari = np.round(metrics.ari(Y_all, y_pred), 5)\n",
    "            loss = np.round(loss, 5)\n",
    "            print('Iter %d: acc = %.5f, nmi = %.5f, ari = %.5f' % (ite, acc, nmi, ari), ' ; loss=', loss)\n",
    "\n",
    "        delta_label = np.sum(y_pred != y_pred_last).astype(np.float32) / y_pred.shape[0]\n",
    "        y_pred_last = np.copy(y_pred)\n",
    "        if ite > 0 and delta_label < tol:\n",
    "            print('delta_label ', delta_label, '< tol ', tol)\n",
    "            print('Reached tolerance threshold. Stopping training.')\n",
    "            break\n",
    "    idx = index_array[index * batch_size: min((index+1) * batch_size, x_all.shape[0])]\n",
    "    loss = model.train_on_batch(x=x_all[idx], y=p[idx])\n",
    "    index = index + 1 if (index + 1) * batch_size <= x_all.shape[0] else 0\n",
    "    plt.plot(loss)\n",
    "\n",
    "    \n",
    "model.save_weights(save_dir + '/DEC_model_final.h5')"
   ]
  },
  {
   "cell_type": "markdown",
   "metadata": {},
   "source": [
    "### Load the clustering model trained weights"
   ]
  },
  {
   "cell_type": "code",
   "execution_count": 44,
   "metadata": {},
   "outputs": [],
   "source": [
    "model.load_weights(save_dir + '/DEC_model_final.h5')"
   ]
  },
  {
   "cell_type": "markdown",
   "metadata": {},
   "source": [
    "### Final Evaluation"
   ]
  },
  {
   "cell_type": "code",
   "execution_count": 45,
   "metadata": {},
   "outputs": [
    {
     "name": "stderr",
     "output_type": "stream",
     "text": [
      "C:\\Users\\YALAVI\\Anaconda3\\lib\\site-packages\\sklearn\\utils\\linear_assignment_.py:128: FutureWarning: The linear_assignment function is deprecated in 0.21 and will be removed from 0.23. Use scipy.optimize.linear_sum_assignment instead.\n",
      "  FutureWarning)\n"
     ]
    },
    {
     "name": "stdout",
     "output_type": "stream",
     "text": [
      "Acc = 0.68020, nmi = 0.00799, ari = 0.01836  ; loss= 0.00841\n"
     ]
    }
   ],
   "source": [
    "q = model.predict(x_all, verbose=0)\n",
    "p = target_distribution(q)  \n",
    "\n",
    "y_pred = q.argmax(1)\n",
    "if Y_all is not None:\n",
    "    acc = np.round(metrics.acc(Y_all, y_pred), 5)\n",
    "    nmi = np.round(metrics.nmi(Y_all, y_pred), 5)\n",
    "    ari = np.round(metrics.ari(Y_all, y_pred), 5)\n",
    "    loss = np.round(loss, 5)\n",
    "    print('Acc = %.5f, nmi = %.5f, ari = %.5f' % (acc, nmi, ari), ' ; loss=', loss)"
   ]
  },
  {
   "cell_type": "code",
   "execution_count": null,
   "metadata": {},
   "outputs": [],
   "source": [
    "import seaborn as sns\n",
    "import sklearn.metrics\n",
    "import matplotlib.pyplot as plt\n",
    "sns.set(font_scale=1)\n",
    "confusion_matrix = sklearn.metrics.confusion_matrix(Y_all, y_pred)\n",
    "\n",
    "plt.figure(figsize=(5, 5))\n",
    "sns.heatmap(confusion_matrix, annot=True, fmt=\"d\", annot_kws={\"size\": 15});\n",
    "plt.title(\"Confusion matrix\", fontsize=15)\n",
    "plt.ylabel('True label', fontsize=15)\n",
    "plt.xlabel('Clustering label', fontsize=15)\n",
    "plt.show()"
   ]
  },
  {
   "cell_type": "code",
   "execution_count": null,
   "metadata": {},
   "outputs": [],
   "source": [
    "confusion_matrix"
   ]
  },
  {
   "cell_type": "code",
   "execution_count": null,
   "metadata": {},
   "outputs": [],
   "source": []
  }
 ],
 "metadata": {
  "kernelspec": {
   "display_name": "Python 3",
   "language": "python",
   "name": "python3"
  },
  "language_info": {
   "codemirror_mode": {
    "name": "ipython",
    "version": 3
   },
   "file_extension": ".py",
   "mimetype": "text/x-python",
   "name": "python",
   "nbconvert_exporter": "python",
   "pygments_lexer": "ipython3",
   "version": "3.7.6"
  }
 },
 "nbformat": 4,
 "nbformat_minor": 4
}
